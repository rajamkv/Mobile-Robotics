{
  "nbformat": 4,
  "nbformat_minor": 0,
  "metadata": {
    "colab": {
      "name": "Raja_2018102032.ipynb",
      "provenance": []
    },
    "kernelspec": {
      "name": "python3",
      "display_name": "Python 3"
    }
  },
  "cells": [
    {
      "cell_type": "code",
      "metadata": {
        "id": "OVEEFJE9iTPi",
        "colab_type": "code",
        "colab": {
          "base_uri": "https://localhost:8080/",
          "height": 170
        },
        "outputId": "81dde879-f522-4b14-9662-bf77dc700f66"
      },
      "source": [
        "print(\"Name: Raja Mavullu Kumar Vechalapu\")\n",
        "print(\"Roll Number: 2018102032\")\n",
        "print(\"Program Enrolled: ECE\")\n",
        "print(\"My Team mate: Mohit Gadamsetty, roll -> 2018102016\")\n",
        "print(\"Why im taking this course :                                   I am fascinated about this field and looking to get a good hands on experience and great knowledge\")\n",
        "print(\"My current knowledge and experience with Robotic Vision:      I am a beginner but will learn in quicker succesion.\")\n",
        "print(\"My current knowledge and experience with Linear Algebra:      I have my basics strong enough and good idea on the advanced concepts\")\n",
        "print(\"My current knowledge and experience with Projective Geometry: I am good in visualising the geometry\")\n",
        "print(\"My goals and expectations from this course:                   To have brief idea on the Rbotics\")\n"
      ],
      "execution_count": 1,
      "outputs": [
        {
          "output_type": "stream",
          "text": [
            "Name: Raja Mavullu Kumar Vechalapu\n",
            "Roll Number: 2018102032\n",
            "Program Enrolled: ECE\n",
            "My Team mate: Mohit Gadamsetty, roll -> 2018102016\n",
            "Why im taking this course :                                   I am fascinated about this field and looking to get a good hands on experience and great knowledge\n",
            "My current knowledge and experience with Robotic Vision:      I am a beginner but will learn in quicker succesion.\n",
            "My current knowledge and experience with Linear Algebra:      I have my basics strong enough and good idea on the advanced concepts\n",
            "My current knowledge and experience with Projective Geometry: I am good in visualising the geometry\n",
            "My goals and expectations from this course:                   To have brief idea on the Rbotics\n"
          ],
          "name": "stdout"
        }
      ]
    }
  ]
}