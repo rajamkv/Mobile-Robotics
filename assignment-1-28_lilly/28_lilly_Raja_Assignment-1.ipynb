{
 "cells": [
  {
   "cell_type": "markdown",
   "metadata": {},
   "source": [
    "# Assignment 1: Transformations\n",
    "\n",
    "\n",
    "TEAM-ID:  28 \n",
    "TEAM-NAME: lilly \n",
    "YOUR-ID:   28\n",
    "YOUR-NAME: Raja \n",
    "\n",
    "(Although you work in groups, both the students have to submit to Moodle, hence there's name field above)"
   ]
  },
  {
   "cell_type": "markdown",
   "metadata": {},
   "source": [
    "# Instructions\n",
    "- Please check Moodle for \"TEAM-ID\" and \"TEAM-NAME\" fields above. Some of your names have been edited because of redundancy/simplicity. Instructions for submitting the assignment through GitHub Classrooms/Moodle has been uploaded on Moodle. Any clarifications will be made there itself.\n",
    "- Code must be written in Python in Jupyter Notebooks. We highly recommend using anaconda distribution or at the minimum, virtual environments for this assignment. See `./misc/installation` for detailed step-by-step instructions about the installation setup.\n",
    "- Both the team members must submit the zip file.\n",
    "- For this assignment, you will be using Open3D extensively. Refer to [Open3D Documentation](http://www.open3d.org/docs/release/): you can use the in-built methods and **unless explicitly mentioned**, don't need to code from scratch for this assignment. Make sure your code is modular since you will be reusing them for future assignments.\n",
    "- Take a look at the entire assignment. The descriptive questions at the end might have a clue if you are stuck somewhere.\n",
    "- Answer the descriptive questions in your own words with context & clarity. Do not just copy-paste from some Wikipedia page. You will be evaluated accordingly.\n",
    "- Please call the visualization functions only when they are asked. They are asked explicitly at the end of every section.\n",
    "- You could split the Jupyter Notebook cells where `TODO` is written, but please try to avoid splitting/changing the structure of other cells."
   ]
  },
  {
   "cell_type": "code",
   "execution_count": 22,
   "metadata": {},
   "outputs": [],
   "source": [
    "import open3d as o3d\n",
    "import copy\n",
    "import math\n",
    "import numpy as np\n",
    "from scipy.linalg import logm\n",
    "from scipy.spatial.transform import Rotation as R\n",
    "from scipy.optimize import fsolve\n",
    "import matplotlib.pyplot as plt\n",
    "import time"
   ]
  },
  {
   "cell_type": "markdown",
   "metadata": {},
   "source": [
    "# 1. Getting started with Open3D\n",
    "## 1.1 Converting RGBD image into Point Cloud\n",
    "\n",
    "\n",
    "In your robotics journey, it is common to be given just the depth images along with camera parameters in a generic dataset and you'd want to build a 3D data representation out of it, for example, a point cloud. You will understand the math behind these concepts in detail during Vision classes, for now, you can use the in-built functions as a black box.\n",
    "- Below are the given RGB and D images from SUN RGB-D dataset ([S.Song, CVPR 2015](https://rgbd.cs.princeton.edu/)). \n",
    "![low-res-RGBD.resized.png](./misc/low-res-RGBD.png)\n",
    "\n",
    "- Read these two images `color.jpg` and `depth.png` given in current folder using Open3D. Convert it to a point cloud using the default camera parameters (`o3d.camera.PinholeCameraIntrinsicParameters.PrimeSenseDefault`).\n",
    "Then,\n",
    "- Create a \"world\" frame $A$ and combine this (just use $+$ operator) with the above point cloud and save it as `scene.pcd`. Put it aside for now.\n",
    "- Write a simple function `one_one` to visualize `scene.pcd`."
   ]
  },
  {
   "cell_type": "code",
   "execution_count": 23,
   "metadata": {},
   "outputs": [
    {
     "data": {
      "text/plain": [
       "geometry::PointCloud with 236957 points."
      ]
     },
     "execution_count": 23,
     "metadata": {},
     "output_type": "execute_result"
    }
   ],
   "source": [
    "\n",
    "color_raw = o3d.io.read_image(\"color.jpg\")\n",
    "depth_raw = o3d.io.read_image(\"depth.png\")\n",
    "rgbd_image = o3d.geometry.RGBDImage.create_from_sun_format( color_raw, depth_raw)\n",
    "pcd = o3d.geometry.PointCloud.create_from_rgbd_image( rgbd_image,o3d.camera.PinholeCameraIntrinsic(o3d.camera.PinholeCameraIntrinsicParameters.PrimeSenseDefault))\n",
    "pcd.transform([[1, 0, 0, 0], [0, -1, 0, 0], [0, 0, -1, 0], [0, 0, 0, 1]])\n"
   ]
  },
  {
   "cell_type": "code",
   "execution_count": 25,
   "metadata": {},
   "outputs": [
    {
     "name": "stdout",
     "output_type": "stream",
     "text": [
      "geometry::PointCloud with 241957 points.\n"
     ]
    },
    {
     "data": {
      "text/plain": [
       "True"
      ]
     },
     "execution_count": 25,
     "metadata": {},
     "output_type": "execute_result"
    }
   ],
   "source": [
    "A = o3d.geometry.TriangleMesh.create_coordinate_frame(\n",
    "        size=0.4,origin=[1,1,1])\n",
    "pcd1 = A.sample_points_uniformly(number_of_points=5000)\n",
    "scene = pcd1 + pcd\n",
    "print(scene)\n",
    "o3d.io.write_point_cloud(\"scene.pcd\", scene)"
   ]
  },
  {
   "cell_type": "code",
   "execution_count": null,
   "metadata": {},
   "outputs": [],
   "source": [
    "\n",
    "def one_one(temp):\n",
    "    o3d.visualization.draw_geometries(\n",
    "        [ temp])"
   ]
  },
  {
   "cell_type": "markdown",
   "metadata": {},
   "source": [
    "### Question for 1.1\n",
    "\n",
    "- In the next code cell, call the function `one_one` here showing `scene.pcd`."
   ]
  },
  {
   "cell_type": "code",
   "execution_count": null,
   "metadata": {},
   "outputs": [],
   "source": [
    "#uncomment the following and add input parameters if any\n",
    "one_one(scene)"
   ]
  },
  {
   "cell_type": "code",
   "execution_count": null,
   "metadata": {},
   "outputs": [],
   "source": []
  },
  {
   "cell_type": "markdown",
   "metadata": {},
   "source": [
    "# 2. Rotations, Euler angles and Gimbal Lock\n",
    "\n",
    "## 2.1 Rotating an object\n",
    "\n",
    "The objective here is to roughly simulate an object moving on a ground.\n",
    "\n",
    "- Generate a cube at some point on the ground and create another frame $B$ at the center of this object. Combine these both as a single point cloud `cube.pcd`. (You can pick a point on the ground by using the `get_picked_points` method of the class `open3d.visualization.VisualizerWithEditing`.)\n",
    "- Now read both the point clouds `scene.pcd` and `cube.pcd` in a script. Whatever tasks you do below are on the object `cube.pcd` (along with the axes $B$) with `scene.pcd` in the background (static).\n",
    "- Given a sequence of **ZYX Euler** angles $[30^{\\circ}, 90^{\\circ}, 45^{\\circ}]$, generate the rotation. In our case, our object (with its respective axis) undergoes rotation with the background being fixed (with its respective axis).\n",
    "- Note: Throughout this assignment, we will be using the standard **ZYX** Euler angle convention.\n",
    "- Write a function `two_one` to show the above by **animation** (cube rotating along each axis one by one).\n",
    "    - *Hint: Use Open3D's non-blocking visualization and discretize the rotation to simulate the animation. For example, if you want to rotate by $30^{\\circ}$ around a particular axis, do in increments of $5^{\\circ}$ 6 times to make it look like an animation.*"
   ]
  },
  {
   "cell_type": "code",
   "execution_count": null,
   "metadata": {},
   "outputs": [],
   "source": [
    "#vis = o3d.visualization.VisualizerWithEditing()\n",
    "#vis.create_window()\n",
    "#vis.add_geometry(scene)\n",
    "#vis.run()  # user picks points\n",
    "#vis.destroy_window()\n",
    "point = [-0.77, -0.94, -3.4]\n",
    "\n",
    "cub  = o3d.geometry.TriangleMesh.create_box(width=0.4, height=0.4, depth=0.4)\n",
    "c_t = cub.translate(point)\n",
    "c_t.paint_uniform_color([0.3, 0.1, 0.1])\n",
    "p1=cub.get_center()\n",
    "B = o3d.geometry.TriangleMesh.create_coordinate_frame(\n",
    "        size=0.8,origin=[0,0,0])\n",
    "B.translate(p1)\n",
    "C = o3d.geometry.TriangleMesh.create_coordinate_frame(\n",
    "        size=1,origin=[0,0,0])\n",
    "C.translate(p1)\n",
    "pcd2 = cub.sample_points_uniformly(number_of_points=400000)\n",
    "pcd3= B.sample_points_uniformly(number_of_points=400000)\n",
    "\n",
    "\n",
    "\n",
    "\n",
    "cube= pcd2 + pcd3\n",
    "\n",
    "o3d.io.write_point_cloud(\"cube.pcd\", cube)\n",
    "#one_one(cube)\n",
    "\n",
    "\n",
    "print(\"Picked point : \",point)"
   ]
  },
  {
   "cell_type": "code",
   "execution_count": null,
   "metadata": {},
   "outputs": [],
   "source": [
    "scene1 = o3d.io.read_point_cloud(\"scene.pcd\")\n",
    "cube1  = o3d.io.read_point_cloud(\"cube.pcd\")\n",
    "\n",
    "\n"
   ]
  },
  {
   "cell_type": "code",
   "execution_count": null,
   "metadata": {},
   "outputs": [],
   "source": [
    "def two_one(source,target,frame):    \n",
    "    vis = o3d.visualization.Visualizer()\n",
    "    vis.create_window()\n",
    "    vis.add_geometry(source)\n",
    "    vis.add_geometry(target)\n",
    "    vis.add_geometry(frame)    \n",
    "    R = o3d.geometry.get_rotation_matrix_from_zyx((np.pi/60,0,0))\n",
    "    for i in range(10):\n",
    "        source.rotate(R,center=p1)     \n",
    "        vis.update_geometry(source)\n",
    "        vis.poll_events()\n",
    "        vis.update_renderer()\n",
    "        time.sleep(1/6 )\n",
    "    \n",
    "    R_AtoB = o3d.geometry.get_rotation_matrix_from_zyx((np.pi/6,0,0))\n",
    "    R_AtoC = o3d.geometry.get_rotation_matrix_from_zyx((np.pi/6,(np.pi/20),0))\n",
    "    R  = np.matmul(R_AtoC,np.transpose(R_AtoB))\n",
    "    for i in range(10):\n",
    "        source.rotate(R,center=p1)   \n",
    "        vis.update_geometry(source)\n",
    "        vis.poll_events()\n",
    "        vis.update_renderer()\n",
    "        time.sleep(1/6 )\n",
    "    R_AtoB = o3d.geometry.get_rotation_matrix_from_zyx((np.pi/6,np.pi/2,0))\n",
    "    R_AtoC = o3d.geometry.get_rotation_matrix_from_zyx((np.pi/6,np.pi/2,np.pi/40))\n",
    "    R  = np.matmul(R_AtoC,np.transpose(R_AtoB))    \n",
    "    for i in range(10):\n",
    "        source.rotate(R,center=p1)     \n",
    "        vis.update_geometry(source)\n",
    "        vis.poll_events()\n",
    "        vis.update_renderer()\n",
    "        time.sleep(1/6 )"
   ]
  },
  {
   "cell_type": "markdown",
   "metadata": {},
   "source": [
    "### Question for 2.1\n",
    "\n",
    "- In the next code cell, call the function `two_one` here showing the animation described in section 2.1."
   ]
  },
  {
   "cell_type": "code",
   "execution_count": null,
   "metadata": {},
   "outputs": [],
   "source": [
    "#uncomment the following and add input parameters if any\n",
    "two_one(cube1,scene1,C)"
   ]
  },
  {
   "cell_type": "markdown",
   "metadata": {},
   "source": [
    "## 2.2 Euler angle & Gimbal lock\n",
    "\n",
    "Code the following yourself from scratch (Refer Craig book - Section: $Z-Y-X$ Euler angles - same conventions/notations followed).\n",
    "\n",
    "- Case 1: Given the rotation matrix $M_{given}$ below, extract Euler angles $\\alpha , \\beta ,\\gamma$. Convert it back to the rotation matrix $M_{recovered}$ from Euler angles.\n",
    "\n",
    "    $$M(\\alpha , \\beta ,\\gamma)=\\left[\\begin{array}{rrr}0.26200263 & -0.19674724 & 0.944799 \\\\0.21984631 & 0.96542533 & 0.14007684 \\\\\n",
    "    -0.93969262 & 0.17101007 & 0.29619813\\end{array}\\right] $$\n",
    "\n",
    "    After coding it from scratch, check your calculations using `scipy.spatial.transform.Rotation`. (Mandatory)\n",
    "\n",
    "- Case 2: Given the rotation matrix $N_{given}$, extract Euler angles, and convert back $N_{recovered}$.\n",
    "\n",
    "    $$N(\\alpha , \\beta ,\\gamma)=\\left[\\begin{array}{rrr}0 & -0.173648178 &  0.984807753 \\\\0 & 0.984807753 & 0.173648178 \\\\\n",
    "    -1 & 0 & 0\\end{array}\\right] $$\n",
    "\n",
    "    Again use `scipy` and check its output. If `scipy` is showing any warnings on any of the above cases, explain it in \"**Questions for 2.2**\" (last question). Write code in the next cell.\n",
    "    \n",
    "- (Optional) Case 3: Do the above two for quaternion using scipy functions, i.e. given the rotation matrix, extract quaternion and convert back."
   ]
  },
  {
   "cell_type": "code",
   "execution_count": null,
   "metadata": {
    "deletable": false,
    "editable": false
   },
   "outputs": [],
   "source": [
    "##############################################################################\n",
    "# DON'T EDIT\n",
    "M_given =  np.array([[0.26200263, -0.19674724, 0.944799],\n",
    "                     [0.21984631, 0.96542533, 0.14007684],\n",
    "                     [-0.93969262, 0.17101007, 0.29619813]])\n",
    "\n",
    "N_given = np.array([[0,-0.173648178,0.984807753],\n",
    "                    [0, 0.984807753, 0.173648178],\n",
    "                    [-1, 0, 0]])"
   ]
  },
  {
   "cell_type": "code",
   "execution_count": null,
   "metadata": {
    "scrolled": true
   },
   "outputs": [],
   "source": [
    "# TODO: Do tasks described in 2.2                                            #\n",
    "##############################################################################\n",
    "# Replace \"pass\" statement with your code\n",
    "from scipy.spatial.transform import Rotation as Rotation\n",
    "\n",
    "def RotationMatrix_To_EulerAngles(R) :\n",
    "    sy = math.sqrt(R[0,0] * R[0,0] +  R[1,0] * R[1,0])\n",
    "    singular = sy < 1e-6\n",
    "    if  not singular :\n",
    "        x = math.atan2( R[2,1] , R[2,2])\n",
    "        y = math.atan2(-R[2,0] , sy)\n",
    "        z = math.atan2( R[1,0] , R[0,0])\n",
    "    else :\n",
    "        x = math.atan2(-R[1,2] , R[1,1])\n",
    "        y = math.atan2(-R[2,0] , sy)\n",
    "        z = 0\n",
    "    return np.array([z, y, x])\n",
    "\n",
    "\n",
    "\n",
    "def EulerAngles_To_RotationMatrix(theta) :    \n",
    "    R_x = np.array([[1,0,0],\n",
    "                    [0,math.cos(theta[2]),-math.sin(theta[2]) ],\n",
    "                    [0,math.sin(theta[2]),math.cos(theta[2])  ]\n",
    "                    ])\n",
    "    R_y = np.array([[math.cos(theta[1]),0,math.sin(theta[1])  ],\n",
    "                    [0,1,0],\n",
    "                    [-math.sin(theta[1]),0,math.cos(theta[1]) ]\n",
    "                    ])\n",
    "    R_z = np.array([[math.cos(theta[0]),-math.sin(theta[0]),0 ],\n",
    "                    [math.sin(theta[0]),math.cos(theta[0]),0],\n",
    "                    [0,0,1]\n",
    "                    ])\n",
    "    R = np.dot(R_z, np.dot( R_y, R_x ))\n",
    "    return R\n",
    "\n",
    "\n",
    "r1 = Rotation.from_matrix(M_given)\n",
    "r2 = Rotation.from_matrix(N_given)\n",
    "\n",
    "# CASE 1 :\n",
    "theta1       = RotationMatrix_To_EulerAngles(M_given)\n",
    "M_recovered  = EulerAngles_To_RotationMatrix(theta1)\n",
    "Euler1  = theta1*(57.2958)                # converting the radians to Degrees (1 radian = 57.2958 degrees)\n",
    "\n",
    "# Verification with Scipy\n",
    "eul1 = r1.as_euler('ZYX', degrees=True)\n",
    "#print(\"Angles calculated : \",Euler1)\n",
    "#print(\"Angles from scipy : \",eul1)\n",
    "\n",
    "\n",
    "# CASE 2 :\n",
    "theta2       = RotationMatrix_To_EulerAngles(N_given)\n",
    "N_recovered  = EulerAngles_To_RotationMatrix(theta2)\n",
    "Euler2  = theta2*(57.2958)\n",
    "\n",
    "# Verification with Scipy\n",
    "eul2 = r2.as_euler('ZYX', degrees=True)\n",
    "#print(\"Angles calculated : \",Euler2)\n",
    "#print(\"Angles from scipy : \",eul2)\n",
    "\n",
    "\n",
    "# CASE 3 :\n",
    "Quaternion1      = r1.as_quat() \n",
    "recovery1        = Rotation.from_quat(Quaternion1)\n",
    "M_quat_recovered = recovery1.as_matrix()\n",
    "\n",
    "Quaternion2      = r2.as_quat() \n",
    "recovery2        = Rotation.from_quat(Quaternion2)\n",
    "N_quat_recovered = recovery2.as_matrix()\n",
    "\n",
    "#print(Quaternion1 )\n",
    "#print(Quaternion2 )\n",
    "#print(M_quat_recovered)\n",
    "#print(N_quat_recovered)\n",
    "##############################################################################\n",
    "#                             END OF YOUR CODE                               #\n",
    "##############################################################################"
   ]
  },
  {
   "cell_type": "markdown",
   "metadata": {},
   "source": [
    "## Questions for 2.2\n",
    "- Have you used `np.arctan` or an any equivalent `atan` function above? Why or why not?   \n",
    "    * Ans: NO,I have used the function math.atan2, the reason is the functions arctan or any equivalent atan functions has range \"-pi/2 to pi/2\" which may work for the Given cases but will not work when the angles out of the range so, the function I used \"atan2\" will have range as \"-pi to pi\".   "
   ]
  },
  {
   "cell_type": "markdown",
   "metadata": {},
   "source": [
    "### For Case 1 above,\n",
    "- What Euler angles  $\\alpha , \\beta ,\\gamma$ did you get? Replace `my_array_case1 ` with your array."
   ]
  },
  {
   "cell_type": "code",
   "execution_count": null,
   "metadata": {},
   "outputs": [],
   "source": [
    "# Uncomment and replace my_array_case1 with your array.\n",
    "print(\"My Euler angles for case 1 are\" + str(Euler1))"
   ]
  },
  {
   "cell_type": "markdown",
   "metadata": {},
   "source": [
    "  - Were you able to recover back your rotation matrix when you converted it from Euler angles? Why/why not? Replace `M_given` and `M_recovered` with your matrices below and explain \"why/why not\" after this code snippet."
   ]
  },
  {
   "cell_type": "code",
   "execution_count": null,
   "metadata": {},
   "outputs": [],
   "source": [
    "# Uncomment and Replace M_given and M_recovered with your matrices below.\n",
    "error = np.linalg.norm(logm(M_given @ M_recovered.T))\n",
    "print(\"For case 1, it is \" + str(error<0.0001) + \" I could recover the original matrix.\")"
   ]
  },
  {
   "cell_type": "markdown",
   "metadata": {},
   "source": [
    "- Why/why not? Based on your observations here, is there any problem with Euler angle representation for Case 1? If yes, what is it?\n",
    "\n",
    "    - Ans:    There is no problem with Euler angle representation for Case 1 as every angle can be uniquely represented"
   ]
  },
  {
   "cell_type": "markdown",
   "metadata": {},
   "source": [
    "### Repeat the above for Case 2."
   ]
  },
  {
   "cell_type": "code",
   "execution_count": null,
   "metadata": {},
   "outputs": [],
   "source": [
    "# Uncomment and Replace N_given and N_recovered with your matrices below.\n",
    "print(\"My Euler angles for case 2 are\" + str(Euler2))\n",
    "error = np.linalg.norm(logm(N_given @ N_recovered.T))\n",
    "print(\"For case 2, it is \" + str(error<0.0001) + \" I could recover the original matrix.\")"
   ]
  },
  {
   "cell_type": "markdown",
   "metadata": {},
   "source": [
    "* Why/why not? Based on your observations here, is there any problem with Euler angle representation for Case 2? If yes, what is it?\n",
    "\n",
    "    * Ans: Yes , the problem with Case 2 is, it's a Gimbal lock problem.Where we cannot uniquely represent the yaw(about z) and roll(about x) but can only get there sum since the pitch angle is 90 deggress.\n",
    "    \n",
    "    \n",
    "* Explain any more problems with Euler angle representation. Explain what you understand by Gimbal lock (concisely in your own words). You could revisit this question in the section 2.4.\n",
    "    * Ans: Any orientation sensor or AHRS that uses Euler Angles will always fail to produce reliable estimates when the pitch angle approaches 90 degrees. My understanding of gimbel lock is , we will be finally in a orientation where one axis of rotation coincides with another there by loosing one freedom of rotation , thus any leading to a problem in detecting the orintation of the object. "
   ]
  },
  {
   "cell_type": "markdown",
   "metadata": {},
   "source": [
    "- When you used `scipy.spatial.transform.Rotation` for the above 2 cases,\n",
    "    - Have you used `zyx` above in `r.as_euler('')` argument? Why or why not? Explain the difference between extrinsic and instrinsic rotations with equivalent technical names from Craig book?\n",
    "        * Ans: I have used 'ZYX' format, beacause 'ZYX' returns the values about the Movable axis(Intrinsic) but the format 'zyx' gives the values w.r.t Fixed axis(Extrinsic).Therefore the difference between Extrinsic and Intrinsic will be Rotaion about, Fixed axis and Movable axis.\n",
    "    - Has `scipy` shown any warnings on any of the above cases? If yes, explain it.\n",
    "        * Ans: yes, for the case 2 it shows a warning that gimbal lock is hit, so setting one angle to zero since angles cannot be uniqely represented. The reason is when Gimbal lock is formed we will only be able to know the sum to two rotation angles. There by leading to infinite solutions, so to avoid this and to give a awnser scipy sets one of the angles to zero and the other angle to the known sum.\n",
    "    - (Optional) For Case 3 above (quaternion) which you did using scipy, did you observe any problem with quaternion? Depending on your observations, which is better? Quaternion or Euler angles? And why?\n",
    "         * Ans: There are no problems with quaternion representation. Infact it is a compact way of representing a rotation and It will also not have a problem like Gimbal lock with Euler Angles.It will also help in \"Smooth Rotation\" which has wide range of use. So , the quaternion representation is a prefered and useful way.\n"
   ]
  },
  {
   "cell_type": "markdown",
   "metadata": {},
   "source": [
    "## 2.3 Rotation matrix as an Operator\n",
    "This question will help you in your understanding of [Rotator-transform (Vector-frame) equivalence](https://www.notion.so/saishubodh/Lecture-2-Transformations-11d69d8cef2d4cd195a98fa7d33224e1#f90ece4f5e374743bfed47e46a83ecfe).\n",
    "\n",
    "![image.png](./misc/xyz-frame.png)\n",
    "Consider the frame $XYZ$ in the above image. Say you have a vector $x_1=[0,\\sqrt{3},0]$. Now you want to rotate it such that you end up at $x_2=[1,1,1]$ through a sequence of Euler angle rotations. Your goal is to find out those $\\alpha, \\beta \\: \\& \\: \\gamma$ ($ZYX$). We will follow this order whenever we refer to it below.\n",
    "\n",
    "First, properly understand the so-called \"Rotator-transform equivalence\" to figure out what are the terms of rotation matrix. Then, put the math on paper and you will end up with a set of non-linear equations. Write the set of linear equations in LaTeX here:"
   ]
  },
  {
   "cell_type": "markdown",
   "metadata": {},
   "source": [
    "$${The\\space Equations\\space are:}$$\n",
    "$$\\cos(\\alpha)*\\sin(\\beta)*\\sin(\\gamma)-\\sin(\\alpha)*\\cos(\\gamma)-\\frac{1}{\\sqrt3}=0$$\n",
    "$$\\sin(\\alpha)*\\sin(\\beta)*\\sin(\\gamma)+\\cos(\\alpha)*\\cos(\\gamma)-\\frac{1}{\\sqrt3}=0$$\n",
    "$$\\cos(\\beta)*\\sin(\\gamma)-\\frac{1}{\\sqrt3}=0$$"
   ]
  },
  {
   "cell_type": "markdown",
   "metadata": {},
   "source": [
    "Solve these equations using `fsolve` from `scipy.optimize` as follows: (Come back and answer the following questions after coding it in the next block)\n",
    "- `case1`: First, solve it with an initialization of (0,0,0). Check if your answer is correct using `np.isclose`.\n",
    "    * What Euler angles did you get? Answer in $\\alpha, \\beta \\: \\& \\: \\gamma$ format:\n",
    "        * Ans: *$a_1, b_1, c_1$ = `[ -0.39780629 -93.75690183   0.71372211]`* \n",
    "- `case2`: Now, forget about the solver for a moment: Can you visualize and think of sequence of rotations one by one to reach the final position (which is different than previous set of rotations)? Now, validate your answer by giving (your answer $\\pm 5$) as initialization.\n",
    "    * What Euler angles did you get? Answer in $\\alpha, \\beta \\: \\& \\: \\gamma$ format:\n",
    "        * Ans: *$a_2, b_2, c_2$ = `[-0.22461136  0.64487776  0.80731668]`*"
   ]
  },
  {
   "cell_type": "code",
   "execution_count": null,
   "metadata": {
    "deletable": false,
    "editable": false
   },
   "outputs": [],
   "source": [
    "##############################################################################\n",
    "# DON'T EDIT\n",
    "x_1 = np.array([0,np.sqrt(3),0])\n",
    "x_2 = np.array([1,1,1])"
   ]
  },
  {
   "cell_type": "code",
   "execution_count": null,
   "metadata": {},
   "outputs": [],
   "source": [
    "##############################################################################\n",
    "# TODO: Do tasks described in 2.3                                            #\n",
    "##############################################################################\n",
    "# Replace \"pass\" statement with your code\n",
    "def rmat(x):\n",
    "    y=[0,0,0]\n",
    "    y[0]=((math.cos(x[0])*math.sin(x[1])*math.sin(x[2]))-(math.sin(x[0])*math.cos(x[2])))-math.sqrt(1/3)\n",
    "    y[1]=((math.sin(x[0])*math.sin(x[1])*math.sin(x[2]))+(math.cos(x[0])*math.cos(x[2])))-math.sqrt(1/3)\n",
    "    y[2]=(math.cos(x[1])*math.sin(x[2]))-math.sqrt(1/3)\n",
    "    #print(\"int func\")\n",
    "    #print(y)\n",
    "    return y\n",
    "##############################################################################\n",
    "#                             END OF YOUR CODE                               #\n",
    "##############################################################################"
   ]
  },
  {
   "cell_type": "code",
   "execution_count": null,
   "metadata": {},
   "outputs": [],
   "source": [
    "# From Section 2.2, use the function which takes Euler angles and gives Rotation matrix as output.\n",
    "# Uncomment and replace `r_mat` with the name of the function. (Do NOT edit anything else)\n",
    "a1=math.radians(-12.86928305)\n",
    "a2=math.radians(36.94877383)\n",
    "a3=math.radians(46.25583854)\n",
    "y=[0,0,0]\n",
    "x00=fsolve(rmat,[y])\n",
    "#print(x00)\n",
    "#y[0]=(math.cos(a1)*math.sin(a2)*math.sin(a3))-(math.sin(a1)*math.cos(a3))*math.sqrt(1)\n",
    "#y[1]=(math.sin(a1)*math.sin(a2)*math.sin(a3))+(math.cos(a1)*math.cos(a3))*math.sqrt(1)\n",
    "#y[2]=math.cos(a2)*math.sin(a3)*(math.sqrt(1))\n",
    "x11=fsolve(rmat,[a1,a2,a3])\n",
    "#print(x11)\n",
    "#print(y)\n",
    "#print(rmat(x00))\n",
    "x_2_obtained_case1 = EulerAngles_To_RotationMatrix([x00[0],x00[1],x00[2]]) @ x_1.T #TODO: replace r_mat\n",
    "x_2_obtained_case2 = EulerAngles_To_RotationMatrix([x11[0],x11[1],x11[2]])@ x_1.T #TODO: replace r_mat\n",
    "#print(x_2_obtained_case1)\n",
    "\n",
    "test = True #TODO: Set this as True"
   ]
  },
  {
   "cell_type": "code",
   "execution_count": null,
   "metadata": {},
   "outputs": [],
   "source": [
    "# DON'T EDIT\n",
    "if test == True:\n",
    "    case1_test = np.isclose(x_2_obtained_case1,  np.array([1.0,1.0,1.0]))\n",
    "    case2_test = np.isclose(x_2_obtained_case2,  np.array([1.0,1.0,1.0]))\n",
    "    print(\"For case 1, it is \" + str(bool(case1_test[0] and case1_test[1] and case1_test[2])) + \n",
    "          \" that I could end up at (1,1,1) after rotation.\")\n",
    "    print(\"For case 2, it is \" + str(bool(case2_test[0] and case2_test[1] and case2_test[2])) + \n",
    "          \" that I could end up at (1,1,1) after rotation.\")"
   ]
  },
  {
   "cell_type": "markdown",
   "metadata": {},
   "source": [
    "## 2.4 Gimbal Lock visualization (Optional)\n",
    "\n",
    "A nice visualization video for gimbal lock is [this](https://www.youtube.com/watch?v=zc8b2Jo7mno). You are about to animate a similar visualization demonstrating gimbal lock 😃.\n",
    "\n",
    "![image.png](./misc/xyz-frame.png)\n",
    "\n",
    "- Write a function `two_four` for the visualization of gimbal lock. Follow the below steps to get the intuition going. Use Open3D for the following.\n",
    "    - Say our frame's initial position is as the above image. Now the final goal at the end of rotation is to get the $Y$ axis pointing in the direction of the vector $(x,y,z)$ that you currently see in the above image. This point is fixed in space and is NOT moving as we rotate our axis.\n",
    "    - For creating that point, you could use a small sphere using `open3d.geometry.create_mesh_sphere`. You already know how to create an axis by now.\n",
    "    - Following our $ZYX$ convention, first rotate your frame about $Z$ axis by an angle, say $-35^{\\circ}$. Then rotate about $Y$ axis by an angle ${\\beta}$ and then about $X$ by say $55^{\\circ}$.\n",
    "        - Are there any specific angle(s) $\\beta$ using which you will **never** reach our point $(x,y,z)$ ?\n",
    "            - Clue: We are specifically talking about gimbal lock here and notice the word \"never\".\n",
    "        - Under this (these) specific angle(s) of $\\beta$ & different combinations of $\\alpha$ and $\\gamma$, make an animation and clearly show why your $Y$ axis is unable to align in the direction of that vector $(x,y,z)$ using the animation.\n",
    "\n",
    "            If you are unsure to simulate the animation, you could do it as follows:\n",
    "\n",
    "            - You could first fix some $\\alpha$, say $-35^{\\circ}$ & an above value of $\\beta$, you can now vary $\\gamma$ from $-180^{\\circ} \\text{ to }180^{\\circ}$ to simulate the animation.\n",
    "            - Now fix another $\\alpha$, say $45^{\\circ}$ and repeat the above process. So that's 2 specific values of $\\alpha$.\n",
    "            - Show this for all angles of $\\beta$ if there are more than 1.\n",
    "            - Therefore, when the code is run, there should be a minimum of (2 $\\times$ (number of values of $\\beta$)) animations. 2 for values of $\\alpha$, you could show it for even more if you wish to."
   ]
  },
  {
   "cell_type": "code",
   "execution_count": null,
   "metadata": {},
   "outputs": [],
   "source": [
    "##############################################################################\n",
    "# TODO: Do tasks described in 2.4                                            #\n",
    "##############################################################################\n",
    "# Replace \"pass\" statement with your code\n",
    "Global = o3d.geometry.TriangleMesh.create_coordinate_frame(\n",
    "        size=1,origin=[0,0,0])\n",
    "\n",
    "S  = o3d.geometry.TriangleMesh.create_sphere(radius=0.01)\n",
    "S.translate([0.25,0.25,0.25])  # locating sphere\n",
    "S.paint_uniform_color([0.9, 0.1, 0.1])\n",
    "\n",
    "#Different sets of alpha and gamma\n",
    "alpha = [-35,30,-50,40,50] \n",
    "gama  = [55,-10,70,-20,-30]\n",
    "\n",
    "def two_four(source,target,frame,j):    \n",
    "        vis = o3d.visualization.Visualizer()\n",
    "        vis.create_window()\n",
    "        vis.add_geometry(source)\n",
    "        vis.add_geometry(target)\n",
    "        vis.add_geometry(frame) \n",
    "        R = o3d.geometry.get_rotation_matrix_from_zyx((((alpha[j])/1800)*(np.pi),0,0))\n",
    "        for i in range(10):\n",
    "            source.rotate(R,center=[0,0,0])     \n",
    "            vis.update_geometry(source)\n",
    "            vis.poll_events()\n",
    "            vis.update_renderer()\n",
    "            time.sleep(1/6 )    \n",
    "        R_AtoB = o3d.geometry.get_rotation_matrix_from_zyx((((alpha[j])/180)*(np.pi),0,0))\n",
    "        R_AtoC = o3d.geometry.get_rotation_matrix_from_zyx((((alpha[j])/180)*(np.pi),(np.pi/20),0))\n",
    "        R  = np.matmul(R_AtoC,np.transpose(R_AtoB))\n",
    "        for i in range(10):\n",
    "            source.rotate(R,center=[0,0,0])   \n",
    "            vis.update_geometry(source)\n",
    "            vis.poll_events()\n",
    "            vis.update_renderer()\n",
    "            time.sleep(1/6 )\n",
    "        R_AtoB = o3d.geometry.get_rotation_matrix_from_zyx((((alpha[j])/180)*(np.pi),np.pi/2,0))\n",
    "        R_AtoC = o3d.geometry.get_rotation_matrix_from_zyx((((alpha[j])/180)*(np.pi),np.pi/2,((gama[j])/1800)*(np.pi)))\n",
    "        R  = np.matmul(R_AtoC,np.transpose(R_AtoB))    \n",
    "        for i in range(10):\n",
    "            source.rotate(R,center=[0,0,0])     \n",
    "            vis.update_geometry(source)\n",
    "            vis.poll_events()\n",
    "            vis.update_renderer()\n",
    "            time.sleep(1/6 )\n",
    "        vis.destroy_window()\n",
    "\n",
    "##############################################################################\n",
    "#                             END OF YOUR CODE                               #\n",
    "##############################################################################"
   ]
  },
  {
   "cell_type": "markdown",
   "metadata": {},
   "source": [
    "> VOILA! You have just animated the famous Gimbal lock problem. If you are curious, read about the [Apollo 11](https://en.wikipedia.org/wiki/Gimbal_lock#On_Apollo_11) Gimbal lock incident.\n",
    "\n",
    "### Questions for 2.4 (Optional)\n",
    "\n",
    "- Mention the value(s) of $\\beta$ here: \n",
    "    * Ans: *pi/2 , -pi/2.*\n",
    "- Now that you understand gimbal lock through visualization, explain it now in matrix form: For the above values of $\\beta$, what does the rotation matrix look like? Can you explain why gimbal lock occurs from the rotation matrix alone? Clue: Use sin/cos formulae. \n",
    "    * Ans: Let $\\alpha$,$\\beta$,$\\gamma$ be the rotations about Z-Y-X then,\n",
    "    \\begin{aligned}R&={\\begin{bmatrix}1&0&0\\\\0&\\cos \\alpha &-\\sin \\alpha \\\\0&\\sin \\alpha &\\cos \\alpha \\end{bmatrix}}{\\begin{bmatrix}\\cos \\beta &0&\\sin \\beta \\\\0&1&0\\\\-\\sin \\beta &0&\\cos \\beta \\end{bmatrix}}{\\begin{bmatrix}\\cos \\gamma &-\\sin \\gamma &0\\\\\\sin \\gamma &\\cos \\gamma &0\\\\0&0&1\\end{bmatrix}}\\end{aligned}\n",
    "    \n",
    "    For Gimbal lock let, $\\beta$ =$\\pi$/2. Replacing cos($\\pi$/2) = 0 and sin($\\pi$/2) = 1, the above expression becomes equal to:\n",
    "    \\begin{aligned}R&={\\begin{bmatrix}1&0&0\\\\0&\\cos \\alpha &-\\sin \\alpha \\\\0&\\sin \\alpha &\\cos \\alpha \\end{bmatrix}}{\\begin{bmatrix}0&0&1\\\\0&1&0\\\\-1&0&0\\end{bmatrix}}{\\begin{bmatrix}\\cos \\gamma &-\\sin \\gamma &0\\\\\\sin \\gamma &\\cos \\gamma &0\\\\0&0&1\\end{bmatrix}}\\end{aligned}\n",
    "    On multiplying the matrices finally,\n",
    "    \\begin{aligned}R&={\\begin{bmatrix}0&0&1\\\\\\sin \\alpha &\\cos \\alpha &0\\\\-\\cos \\alpha &\\sin \\alpha &0\\end{bmatrix}}{\\begin{bmatrix}\\cos \\gamma &-\\sin \\gamma &0\\\\\\sin \\gamma &\\cos \\gamma &0\\\\0&0&1\\end{bmatrix}}&={\\begin{bmatrix}0&0&1\\\\\\sin \\alpha \\cos \\gamma +\\cos \\alpha \\sin \\gamma &-\\sin \\alpha \\sin \\gamma +\\cos \\alpha \\cos \\gamma &0\\\\-\\cos \\alpha \\cos \\gamma +\\sin \\alpha \\sin \\gamma &\\cos \\alpha \\sin \\gamma +\\sin \\alpha \\cos \\gamma &0\\end{bmatrix}}\\end{aligned}\n",
    "    And finally using the trigonometry formulas:\n",
    "    \\begin{aligned}R&={\\begin{bmatrix}0&0&1\\\\\\sin(\\alpha +\\gamma )&\\cos(\\alpha +\\gamma )&0\\\\-\\cos(\\alpha +\\gamma )&\\sin(\\alpha +\\gamma )&0\\end{bmatrix}}\\end{aligned}\n",
    "    Changing the values of $\\alpha$  and $\\gamma$ in the above matrix has the same effects: the rotation angle ($\\alpha$ + $\\gamma$) changes, but the rotation axis remains in the Z direction: the last column and the first row in the matrix won't change.\n",
    "    Similarly for $\\beta$ =-$\\pi$/2 , the rotation angle will be ($\\alpha$ - $\\gamma$)\n",
    ".\n",
    "- Call the function `two_four` for the visualization of gimbal lock written above. "
   ]
  },
  {
   "cell_type": "code",
   "execution_count": null,
   "metadata": {},
   "outputs": [],
   "source": [
    "#uncomment the following and add input parameters if any\n",
    "F = o3d.geometry.TriangleMesh.create_coordinate_frame(size=0.75,origin=[0,0,0])\n",
    "two_four(F,S,Global,0)\n",
    "\n",
    "F1 = o3d.geometry.TriangleMesh.create_coordinate_frame(size=0.75,origin=[0,0,0])\n",
    "two_four(F1,S,Global,1)\n",
    "\n",
    "F2 = o3d.geometry.TriangleMesh.create_coordinate_frame(size=0.75,origin=[0,0,0])\n",
    "two_four(F2,S,Global,2)\n",
    "\n",
    "F3 = o3d.geometry.TriangleMesh.create_coordinate_frame(size=0.75,origin=[0,0,0])\n",
    "two_four(F3,S,Global,3)\n",
    "\n",
    "F4 = o3d.geometry.TriangleMesh.create_coordinate_frame(size=0.75,origin=[0,0,0])\n",
    "two_four(F4,S,Global,4)\n"
   ]
  },
  {
   "cell_type": "code",
   "execution_count": null,
   "metadata": {},
   "outputs": [],
   "source": []
  }
 ],
 "metadata": {
  "celltoolbar": "Edit Metadata",
  "kernelspec": {
   "display_name": "Python 3",
   "language": "python",
   "name": "python3"
  },
  "language_info": {
   "codemirror_mode": {
    "name": "ipython",
    "version": 3
   },
   "file_extension": ".py",
   "mimetype": "text/x-python",
   "name": "python",
   "nbconvert_exporter": "python",
   "pygments_lexer": "ipython3",
   "version": "3.8.3"
  }
 },
 "nbformat": 4,
 "nbformat_minor": 4
}
