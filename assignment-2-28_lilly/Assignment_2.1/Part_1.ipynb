{
 "cells": [
  {
   "cell_type": "code",
   "execution_count": 6,
   "metadata": {},
   "outputs": [],
   "source": [
    "import open3d as o3d\n",
    "import copy\n",
    "import math\n",
    "import numpy as np\n",
    "from scipy.linalg import logm\n",
    "from scipy.spatial.transform import Rotation as R\n",
    "from scipy.optimize import fsolve\n",
    "import matplotlib.pyplot as plt\n",
    "import time"
   ]
  },
  {
   "cell_type": "code",
   "execution_count": 7,
   "metadata": {},
   "outputs": [],
   "source": [
    "import math\n",
    "import numpy as np \n",
    "\n",
    "def readData(filename):\n",
    "    data = np.loadtxt(filename)\n",
    "    #data[i].reshape(3,4)\n",
    "    return data \n",
    "\n",
    "def readPointCloud(filename):\n",
    "    pcl = np.fromfile(filename, dtype=np.float32,count=-1)\n",
    "    pcl = pcl.reshape([-1,4])\n",
    "    return pcl \n",
    "\n",
    "def EulerAngles_To_RotationMatrix(theta) :    \n",
    "    R_x = np.array([[1,0,0],\n",
    "                    [0,math.cos(theta[2]),-math.sin(theta[2]) ],\n",
    "                    [0,math.sin(theta[2]),math.cos(theta[2])  ]\n",
    "                    ])\n",
    "    R_y = np.array([[math.cos(theta[1]),0,math.sin(theta[1])  ],\n",
    "                    [0,1,0],\n",
    "                    [-math.sin(theta[1]),0,math.cos(theta[1]) ]\n",
    "                    ])\n",
    "    R_z = np.array([[math.cos(theta[0]),-math.sin(theta[0]),0 ],\n",
    "                    [math.sin(theta[0]),math.cos(theta[0]),0],\n",
    "                    [0,0,1]\n",
    "                    ])\n",
    "    R = np.dot(R_z, np.dot( R_y, R_x ))\n",
    "    return R"
   ]
  },
  {
   "cell_type": "code",
   "execution_count": 8,
   "metadata": {},
   "outputs": [
    {
     "name": "stdout",
     "output_type": "stream",
     "text": [
      "[[ 0 -1  0  0]\n",
      " [ 0  0 -1  0]\n",
      " [ 1  0  0  0]]\n"
     ]
    }
   ],
   "source": [
    "me=EulerAngles_To_RotationMatrix([math.radians(90),math.radians(-90),0])\n",
    "    \n",
    "me2=np.zeros((3,4))\n",
    "for p in range(3):\n",
    "    for q in range(3):\n",
    "         me2[p][q]=me[p][q]\n",
    "print(me2.astype(int))"
   ]
  },
  {
   "cell_type": "code",
   "execution_count": 9,
   "metadata": {
    "scrolled": true
   },
   "outputs": [],
   "source": [
    "\n",
    "my_mat=readData('../dataset/01.txt')\n",
    "final = o3d.geometry.PointCloud()\n",
    "for i in range (77):\n",
    "    st=[0,0,0,0,0,0]\n",
    "    \n",
    "    for j in range (6):\n",
    "        st[5-j]=math.floor((i/(10**j))%10)\n",
    "        \n",
    "    st_me=''.join([str(elem) for elem in st]) \n",
    "    myfile=\"../dataset/01/\"+st_me+\".bin\"\n",
    "    yy=readPointCloud(myfile)\n",
    "\n",
    "    yt=np.transpose(yy)\n",
    "    me=EulerAngles_To_RotationMatrix([math.radians(90),math.radians(-90),0])\n",
    "    \n",
    "    me2=np.zeros((3,4))\n",
    "    for p in range(3):\n",
    "        for q in range(3):\n",
    "             me2[p][q]=me[p][q]  # me2 - Lidar to camera\n",
    "    yy=np.matmul(me2,yt)\n",
    "    \n",
    "    me2=yy.shape[1]\n",
    "    yy.resize((4,me2))\n",
    "    temp=my_mat[i]\n",
    "    temp2=np.zeros((3,4))\n",
    "    yy[3]=np.ones((1,me2))\n",
    "    for r in range(3):\n",
    "        for s in range(4):\n",
    "            temp2[r][s]=temp[(r*4)+s]  # temp2 - camera to world\n",
    "            \n",
    "    yp=np.matmul(temp2,yy)\n",
    "    yt1=np.transpose(yp)\n",
    "    pcd = o3d.geometry.PointCloud()\n",
    "    \n",
    "    pcd.points = o3d.utility.Vector3dVector(yt1) # pcd registration\n",
    "    final = final + pcd\n",
    "    if(i==0):\n",
    "        o3d.visualization.draw_geometries(\n",
    "       [ pcd])\n"
   ]
  },
  {
   "cell_type": "code",
   "execution_count": null,
   "metadata": {},
   "outputs": [],
   "source": [
    "# Final pcd downsampled\n",
    "\n",
    "downpcd = final.voxel_down_sample(voxel_size=0.0001)\n",
    "o3d.visualization.draw_geometries(\n",
    "       [ downpcd])"
   ]
  }
 ],
 "metadata": {
  "kernelspec": {
   "display_name": "Python 3",
   "language": "python",
   "name": "python3"
  },
  "language_info": {
   "codemirror_mode": {
    "name": "ipython",
    "version": 3
   },
   "file_extension": ".py",
   "mimetype": "text/x-python",
   "name": "python",
   "nbconvert_exporter": "python",
   "pygments_lexer": "ipython3",
   "version": "3.8.3"
  }
 },
 "nbformat": 4,
 "nbformat_minor": 4
}
