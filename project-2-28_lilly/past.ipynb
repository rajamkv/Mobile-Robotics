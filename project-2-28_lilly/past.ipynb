{
 "cells": [
  {
   "cell_type": "markdown",
   "metadata": {},
   "source": [
    "# Project 2\n",
    "\n",
    "## Topic : Stereo reconstruction and Non-linear optimization\n",
    "\n",
    "#### Instructions\n",
    "<ul>\n",
    "    <li> The second project of the course is designed to get you familiar with stereo reconstruction, and non-linear optimization </li>\n",
    "    <li> Use python for this project. PILLOW and OpenCV are permitted for image I/O. </li>\n",
    "    <li> Submit this notebook as a zipped file on moodle. The format should be $<$team_id$>$_$<$team_ name$>$.zip. Both members have to submit this zip file. </li>\n",
    "    <li> A seperate report is not needed if you're coding in the notebook itself. Please provide adequate descriptions of the approaches you've taken. Also mention work distribution for the two members. </li>\n",
    "    <li> Refer to the late day policy. Start early </li> \n",
    "    <li> Download data from here: https://iiitaphyd-my.sharepoint.com/:f:/g/personal/aryan_sakaria_students_iiit_ac_in/Er5C7351IAlFsvwHUesFeSQBQtlSiAS7AORSEJT2qH_8_w?e=ol98k9  </li>\n",
    "</ul>"
   ]
  },
  {
   "cell_type": "markdown",
   "metadata": {},
   "source": [
    "----\n",
    "### PART 1: Stereo dense reconstruction\n",
    "\n",
    "3-D point clouds are very useful in robotics for several tasks such as object detection, motion estimation (3D-3D matching or 3D-2D matching), SLAM, and other forms of scene understanding.  Stereo camerasprovide  us  with  a  convenient  way  to  generate  dense  point  clouds.Densehere,  in  contrast  tosparse,means all the image points are used for the reconstruction.  In this part of the assignment you will begenerating a dense 3D point cloud reconstruction of a scene from stereo images.\n",
    "\n",
    "#### Procedure: \n",
    "\n",
    "<ol>\n",
    "    <li> Generate a disparity map for each stereo pair.  Use OpenCV (e.g.  StereoSGBM) for this.  Notethat the images provided are already rectified and undistorted. </li>\n",
    "    <li> Then, using the camera parameters and baseline information generate colored point clouds fromeach disparity map.  Some points will have invalid disparity values, so ignore them.  Use [Open3D]for storing your point clouds. </li>\n",
    "    <li> Register (or transform) all the generated point clouds into your world frame by using the providedground truth poses. </li>\n",
    "    <li> Visualize the registered point cloud data, in color.  Use Open3D for this </li>\n",
    "</ol>\n",
    "    "
   ]
  },
  {
   "cell_type": "code",
   "execution_count": 17,
   "metadata": {},
   "outputs": [],
   "source": [
    "#import libraries:\n",
    "import numpy as np \n",
    "from sklearn.preprocessing import normalize #normalizing gives better results. Experiment with this\n",
    "import cv2\n",
    "import open3d as o3d"
   ]
  },
  {
   "cell_type": "code",
   "execution_count": 18,
   "metadata": {},
   "outputs": [],
   "source": [
    "def read_transformations(filename='./mr2020_project_data/poses.txt'):\n",
    "    f = open(filename, 'r')\n",
    "    lines = f.readlines()\n",
    "    transformation_list = []\n",
    "    for i in range(len(lines)):\n",
    "        transformation_list_temp = lines[i].split()\n",
    "        temp_rot = [] \n",
    "        temp_rot.append( (transformation_list_temp[0:4] ) ) \n",
    "        temp_rot.append( (transformation_list_temp[4:8]  ) ) \n",
    "        temp_rot.append( (transformation_list_temp[8:12]  ) ) \n",
    "        transformation_list.append(temp_rot)\n",
    "    return transformation_list\n",
    "tr_list=read_transformations()"
   ]
  },
  {
   "cell_type": "markdown",
   "metadata": {},
   "source": [
    "Provide explanation in this cell: \n"
   ]
  },
  {
   "cell_type": "code",
   "execution_count": 19,
   "metadata": {},
   "outputs": [],
   "source": [
    "#your code here\n",
    "def convert_str_to_int(tr_list):\n",
    "    tr_mat_list=[]\n",
    "    for i in range(0,len(tr_list)):\n",
    "        tr_mat_str=tr_list[i]\n",
    "        tr_mat=np.zeros((3,4),float)\n",
    "        for j in range(0,3):\n",
    "            for k in range(0,4):\n",
    "                tr_mat[j][k]=float(tr_mat_str[j][k])\n",
    "        tr_mat_list.append(tr_mat)\n",
    "    return tr_mat_list\n",
    "tr_mat_list=convert_str_to_int(tr_list)\n",
    "\n",
    "\n",
    "K=np.array([[707.0912,0,601.8873],\n",
    "           [0,707.0912,183.1104],\n",
    "           [0,0,1]])\n",
    "f_l=K[0][0]\n",
    "b=0.53790448812\n",
    "Q = np.float32(    [[ 1,  0,  0, -613],\n",
    "                    [ 0, -1,  0,  185],\n",
    "                    [ 0,  0,  0,  f_l],\n",
    "                    [ 0,  0,  1/b, 0]])\n",
    "\n",
    "def get_cam_pts_frm_Q(Q,disparity_pts):\n",
    "    points = []\n",
    "    for dis in disparity_pts:\n",
    "        point = Q@(dis)\n",
    "        point=point/point[3]\n",
    "        points.append(point)\n",
    "    return np.array(points)    "
   ]
  },
  {
   "cell_type": "code",
   "execution_count": 20,
   "metadata": {},
   "outputs": [
    {
     "name": "stdout",
     "output_type": "stream",
     "text": [
      "(7021725, 3)\n"
     ]
    }
   ],
   "source": [
    "f=K[0][0]\n",
    "pcd_gl=o3d.geometry.PointCloud()\n",
    "pcd = o3d.geometry.PointCloud()\n",
    "pcd_list=[]\n",
    "for i in range(60,81):\n",
    "    img_1 = cv2.imread('./mr2020_project_data/img2/00000004'+str(i)+'.png')\n",
    "    img_2 = cv2.imread('./mr2020_project_data/img3/00000004'+str(i)+'.png')\n",
    "    \n",
    "    win_size = 5\n",
    "    blockSize= 5\n",
    "    min_disp = -39\n",
    "    num_disp = 144 \n",
    "    \n",
    "    stereo = cv2.StereoSGBM_create(minDisparity= min_disp,\n",
    "           numDisparities = num_disp,\n",
    "           blockSize = 5,\n",
    "           uniquenessRatio = 10,\n",
    "           speckleWindowSize = 150,\n",
    "           speckleRange = 32,\n",
    "           disp12MaxDiff = 1,\n",
    "           P1 = 8*3*blockSize**2,\n",
    "           P2 =32*3*blockSize**2,\n",
    "           preFilterCap=63) \n",
    "        \n",
    "    disparity= stereo.compute(img_1, img_2).astype(np.float32) / 64\n",
    "    disparity = (disparity-min_disp)/num_disp\n",
    "    Dim = disparity.shape\n",
    "    \n",
    "    disparity_pts=[]\n",
    "    for p in range(Dim[0]):\n",
    "        for q in range(Dim[1]):\n",
    "            disparity_pts.append([q,p,disparity[p,q],1])\n",
    "    disparity_pts = np.array(disparity_pts)\n",
    "        \n",
    "    cam_pts=get_cam_pts_frm_Q(Q,disparity_pts)\n",
    "    cam_pts=cam_pts.T\n",
    "        \n",
    "    colors = cv2.cvtColor(img_1, cv2.COLOR_BGR2RGB)\n",
    "    mask = disparity >= disparity.min()\n",
    "    colors = colors[mask]\n",
    "    colors=colors/255\n",
    "    world_pts=(tr_mat_list[i-60])@cam_pts\n",
    "    world_pts[0]=-world_pts[0]\n",
    "        \n",
    "    pcd.points = o3d.utility.Vector3dVector(world_pts.T)\n",
    "    pcd.colors = o3d.utility.Vector3dVector(colors)\n",
    "    pcd_list.append(pcd)\n",
    "    pcd_gl=pcd_gl+pcd\n",
    "    \n",
    "pts=np.asarray(pcd_gl.points)\n",
    "clrs=np.asarray(pcd_gl.colors)\n",
    "mask = ((-1500 <= pts[:,1]) & (pts[:,1] < 1500) &\n",
    "         (-1500 <= pts[:,2]) & (pts[:,2] < 1500) &\n",
    "        (-1500 <= pts[:,0]) & (pts[:,0] < 1500))\n",
    "pts=pts[mask]\n",
    "print(np.shape(pts))\n",
    "clrs=clrs[mask]\n",
    "pcd_gl.points=o3d.utility.Vector3dVector(pts)\n",
    "pcd_gl.colors=o3d.utility.Vector3dVector(clrs)\n",
    "\n",
    "o3d.visualization.draw_geometries([pcd_gl])"
   ]
  },
  {
   "cell_type": "markdown",
   "metadata": {},
   "source": [
    "----\n",
    "### PART 2: Motion estimation using iterative PnP\n",
    "\n",
    "Using the generated reconstruction from the previous part, synthesize a new image taken by a virtualmonocular camera fixed at any arbitrary position and orientation.  Your task in this part is to recoverthis pose using an iterative Perspective-from-n-Points (PnP) algorithm. \n",
    "\n",
    "#### Procedure: \n",
    "\n",
    "<ol>\n",
    "    <li> Obtain a set of 2D-3D correspondences between the the image and the point cloud.  Since hereyou’re generating the image, this should be easy to obtain. </li>\n",
    "    <li> For this set of correspondences compute the total reprojection error c= $\\sum_{i} ‖x_i−P_{k}X_i‖^2 $    where $P_{k}= K[R_{k}|t_{k}]$, $X_{i}$ is the 3D point in the world frame, $x_{i}$ is its corresponding projection. </li>\n",
    "    <li> Solve for the pose $T_{k}$ that minimizes this non-linear reprojection error using a Gauss-Newton (GN)scheme.  Recall that in GN we start with some initial estimated value $x_{o}$ and iteratively refine the estimate using $x_{1}$= $∆x+x_0$, where $∆x$ is obtained by solving the normal equations $J^{T}J∆x$= -$J^{T}e$, until convergence.The main steps in this scheme are computing the corresponding Jacobians and updating the estimates correctly.  For our problem,  use a 12×1 vector parameterization for $T_{k}$(the top 3×4submatrix).  Run the optimization for different choices of initialization and report your observations. </li>\n",
    "</ol>"
   ]
  },
  {
   "cell_type": "code",
   "execution_count": 19,
   "metadata": {},
   "outputs": [
    {
     "name": "stdout",
     "output_type": "stream",
     "text": [
      "(3, 4)\n",
      "(4, 453620)\n",
      "(3, 453620)\n"
     ]
    }
   ],
   "source": [
    "o3d.visualization.draw_geometries([pcd_1])\n",
    "#print(np.shape(pts_3d))\n",
    "pts_3d1=np.asarray(pcd_1.points).T\n",
    "def append_ones(pts_3d1):\n",
    "    pts_3d1=np.append(pts_3d1,np.ones((1,np.shape(pts_3d1)[1]),float),axis=0)\n",
    "    return pts_3d1\n",
    "\n",
    "pts_3d=append_ones(pts_3d1)\n",
    "P_gt=K@tr_mat_list[0]\n",
    "print(np.shape(P_gt))\n",
    "print(np.shape(pts_3d))\n",
    "pixel_gt=P_gt@pts_3d\n",
    "pixel_gt=pixel_gt/pixel_gt[2]\n",
    "print(np.shape(pixel_gt))\n",
    "r=np.empty((0,1),float)\n",
    "def calc_residual(p,pixel_gt,pts_3d):\n",
    "    #r=np.empty((0,1),float)\n",
    "    r=[]\n",
    "    for i in range(0,np.shape(pts_3d)[1]):\n",
    "        r_pt_x=[(p[0][0]*pts_3d[0][i]+p[1][0]*pts_3d[1][i]+p[2][0]*pts_3d[2][i]+p[3][0])/(p[8][0]*pts_3d[0][i]+p[9][0]*pts_3d[1][i]+p[10][0]*pts_3d[2][i]+p[11][0])-pixel_gt[0][i]]\n",
    "        r_pt_y=[(p[4][0]*pts_3d[0][i]+p[5][0]*pts_3d[1][i]+p[6][0]*pts_3d[2][i]+p[7][0])/(p[8][0]*pts_3d[0][i]+p[9][0]*pts_3d[1][i]+p[10][0]*pts_3d[2][i]+p[11][0])-pixel_gt[1][i]]\n",
    "        #r_pt_z=[p[8][0]*pts_3d[0][i]+p[9][0]*pts_3d[1][i]+p[10][0]*pts_3d[2][i]+p[11][0]-pixel_gt[2][i]]\n",
    "        r.append(r_pt_x)\n",
    "        r.append(r_pt_y)\n",
    "        #r.append(r_pt_z)\n",
    "        #r=np.append(r,r_pt,axis=0)\n",
    "                         \n",
    "    return np.array(r)\n",
    "#r=calc_residual((P_gt.flatten()).reshape(12,1),pixel_gt,pts_3d)\n",
    "#print(r)\n",
    "def calc_jacobian(pts_3d,p):\n",
    "    img_pts=(p.reshape(3,4))@pts_3d\n",
    "    J=[]\n",
    "    for i in range(0,np.shape(pts_3d)[1]):\n",
    "        J_x=[pts_3d[0][i]/img_pts[2][i],pts_3d[1][i]/img_pts[2][i],pts_3d[2][i]/img_pts[2][i],1/img_pts[2][i],0,0,0,0,-pts_3d[0][i]*img_pts[0][i]/(img_pts[2][i]**2),-pts_3d[1][i]*img_pts[0][i]/(img_pts[2][i]**2),-pts_3d[2][i]*img_pts[0][i]/(img_pts[2][i]**2),-img_pts[0][i]/(img_pts[2][i]**2)]\n",
    "        J_y=[0,0,0,0,pts_3d[0][i]/img_pts[2][i],pts_3d[1][i]/img_pts[2][i],pts_3d[2][i]/img_pts[2][i],1/img_pts[2][i],0,0,0,0]\n",
    "        J_z=[0,0,0,0,0,0,0,0,pts_3d[0][i],pts_3d[1][i],pts_3d[2][i],1]\n",
    "        J.append(J_x)\n",
    "        J.append(J_y)\n",
    "        #J.append(J_z)\n",
    "    return np.array(J)\n",
    "#J=calc_jacobian(pts_3d)\n",
    "#print(np.shape(J))"
   ]
  },
  {
   "cell_type": "code",
   "execution_count": 20,
   "metadata": {},
   "outputs": [
    {
     "name": "stdout",
     "output_type": "stream",
     "text": [
      "[[0.]\n",
      " [0.]\n",
      " [0.]\n",
      " [0.]\n",
      " [0.]\n",
      " [0.]\n",
      " [0.]\n",
      " [0.]\n",
      " [0.]\n",
      " [0.]\n",
      " [0.]\n",
      " [0.]]\n"
     ]
    },
    {
     "name": "stderr",
     "output_type": "stream",
     "text": [
      "<ipython-input-19-0037190fd27c>:35: RuntimeWarning: divide by zero encountered in double_scalars\n",
      "  J_x=[pts_3d[0][i]/img_pts[2][i],pts_3d[1][i]/img_pts[2][i],pts_3d[2][i]/img_pts[2][i],1/img_pts[2][i],0,0,0,0,-pts_3d[0][i]*img_pts[0][i]/(img_pts[2][i]**2),-pts_3d[1][i]*img_pts[0][i]/(img_pts[2][i]**2),-pts_3d[2][i]*img_pts[0][i]/(img_pts[2][i]**2),-img_pts[0][i]/(img_pts[2][i]**2)]\n",
      "<ipython-input-19-0037190fd27c>:35: RuntimeWarning: invalid value encountered in double_scalars\n",
      "  J_x=[pts_3d[0][i]/img_pts[2][i],pts_3d[1][i]/img_pts[2][i],pts_3d[2][i]/img_pts[2][i],1/img_pts[2][i],0,0,0,0,-pts_3d[0][i]*img_pts[0][i]/(img_pts[2][i]**2),-pts_3d[1][i]*img_pts[0][i]/(img_pts[2][i]**2),-pts_3d[2][i]*img_pts[0][i]/(img_pts[2][i]**2),-img_pts[0][i]/(img_pts[2][i]**2)]\n",
      "<ipython-input-19-0037190fd27c>:36: RuntimeWarning: divide by zero encountered in double_scalars\n",
      "  J_y=[0,0,0,0,pts_3d[0][i]/img_pts[2][i],pts_3d[1][i]/img_pts[2][i],pts_3d[2][i]/img_pts[2][i],1/img_pts[2][i],0,0,0,0]\n",
      "<ipython-input-19-0037190fd27c>:20: RuntimeWarning: invalid value encountered in double_scalars\n",
      "  r_pt_x=[(p[0][0]*pts_3d[0][i]+p[1][0]*pts_3d[1][i]+p[2][0]*pts_3d[2][i]+p[3][0])/(p[8][0]*pts_3d[0][i]+p[9][0]*pts_3d[1][i]+p[10][0]*pts_3d[2][i]+p[11][0])-pixel_gt[0][i]]\n",
      "<ipython-input-19-0037190fd27c>:21: RuntimeWarning: invalid value encountered in double_scalars\n",
      "  r_pt_y=[(p[4][0]*pts_3d[0][i]+p[5][0]*pts_3d[1][i]+p[6][0]*pts_3d[2][i]+p[7][0])/(p[8][0]*pts_3d[0][i]+p[9][0]*pts_3d[1][i]+p[10][0]*pts_3d[2][i]+p[11][0])-pixel_gt[1][i]]\n",
      "<ipython-input-20-b9087582af36>:15: RuntimeWarning: invalid value encountered in matmul\n",
      "  step=np.linalg.inv((J.T@J))@(J.T@r)\n"
     ]
    },
    {
     "ename": "KeyboardInterrupt",
     "evalue": "",
     "output_type": "error",
     "traceback": [
      "\u001b[0;31m---------------------------------------------------------------------------\u001b[0m",
      "\u001b[0;31mKeyboardInterrupt\u001b[0m                         Traceback (most recent call last)",
      "\u001b[0;32m<ipython-input-20-b9087582af36>\u001b[0m in \u001b[0;36m<module>\u001b[0;34m\u001b[0m\n\u001b[1;32m     31\u001b[0m \u001b[0mp_init3\u001b[0m\u001b[0;34m=\u001b[0m\u001b[0mnp\u001b[0m\u001b[0;34m.\u001b[0m\u001b[0mzeros\u001b[0m\u001b[0;34m(\u001b[0m\u001b[0;34m(\u001b[0m\u001b[0;36m12\u001b[0m\u001b[0;34m,\u001b[0m\u001b[0;36m1\u001b[0m\u001b[0;34m)\u001b[0m\u001b[0;34m,\u001b[0m\u001b[0mfloat\u001b[0m\u001b[0;34m)\u001b[0m\u001b[0;34m\u001b[0m\u001b[0;34m\u001b[0m\u001b[0m\n\u001b[1;32m     32\u001b[0m \u001b[0mprint\u001b[0m\u001b[0;34m(\u001b[0m\u001b[0mp_init3\u001b[0m\u001b[0;34m)\u001b[0m\u001b[0;34m\u001b[0m\u001b[0;34m\u001b[0m\u001b[0m\n\u001b[0;32m---> 33\u001b[0;31m \u001b[0mp_opt\u001b[0m\u001b[0;34m=\u001b[0m\u001b[0mgauss_newton\u001b[0m\u001b[0;34m(\u001b[0m\u001b[0mp_init3\u001b[0m\u001b[0;34m,\u001b[0m\u001b[0mpts_3d\u001b[0m\u001b[0;34m,\u001b[0m\u001b[0mpixel_gt\u001b[0m\u001b[0;34m,\u001b[0m\u001b[0;36m1e-9\u001b[0m\u001b[0;34m,\u001b[0m\u001b[0;36m1e4\u001b[0m\u001b[0;34m)\u001b[0m\u001b[0;34m\u001b[0m\u001b[0;34m\u001b[0m\u001b[0m\n\u001b[0m\u001b[1;32m     34\u001b[0m \u001b[0mprint\u001b[0m\u001b[0;34m(\u001b[0m\u001b[0mp_opt\u001b[0m\u001b[0;34m)\u001b[0m\u001b[0;34m\u001b[0m\u001b[0;34m\u001b[0m\u001b[0m\n\u001b[1;32m     35\u001b[0m \u001b[0mprint\u001b[0m\u001b[0;34m(\u001b[0m\u001b[0;34m(\u001b[0m\u001b[0mP_gt\u001b[0m\u001b[0;34m.\u001b[0m\u001b[0mflatten\u001b[0m\u001b[0;34m(\u001b[0m\u001b[0;34m)\u001b[0m\u001b[0;34m)\u001b[0m\u001b[0;34m.\u001b[0m\u001b[0mreshape\u001b[0m\u001b[0;34m(\u001b[0m\u001b[0;36m12\u001b[0m\u001b[0;34m,\u001b[0m\u001b[0;36m1\u001b[0m\u001b[0;34m)\u001b[0m\u001b[0;34m)\u001b[0m\u001b[0;34m\u001b[0m\u001b[0;34m\u001b[0m\u001b[0m\n",
      "\u001b[0;32m<ipython-input-20-b9087582af36>\u001b[0m in \u001b[0;36mgauss_newton\u001b[0;34m(p_init, pts_3d, pixel_gt, threshold, maxitr)\u001b[0m\n\u001b[1;32m     11\u001b[0m     \u001b[0;32mwhile\u001b[0m\u001b[0;34m(\u001b[0m\u001b[0mitr\u001b[0m\u001b[0;34m<\u001b[0m\u001b[0mmaxitr\u001b[0m\u001b[0;34m)\u001b[0m\u001b[0;34m:\u001b[0m\u001b[0;34m\u001b[0m\u001b[0;34m\u001b[0m\u001b[0m\n\u001b[1;32m     12\u001b[0m         \u001b[0mJ\u001b[0m\u001b[0;34m=\u001b[0m\u001b[0mcalc_jacobian\u001b[0m\u001b[0;34m(\u001b[0m\u001b[0mpts_3d\u001b[0m\u001b[0;34m,\u001b[0m\u001b[0mp\u001b[0m\u001b[0;34m)\u001b[0m\u001b[0;34m\u001b[0m\u001b[0;34m\u001b[0m\u001b[0m\n\u001b[0;32m---> 13\u001b[0;31m         \u001b[0mr\u001b[0m\u001b[0;34m=\u001b[0m\u001b[0mcalc_residual\u001b[0m\u001b[0;34m(\u001b[0m\u001b[0mp\u001b[0m\u001b[0;34m,\u001b[0m\u001b[0mpixel_gt\u001b[0m\u001b[0;34m,\u001b[0m\u001b[0mpts_3d\u001b[0m\u001b[0;34m)\u001b[0m\u001b[0;34m\u001b[0m\u001b[0;34m\u001b[0m\u001b[0m\n\u001b[0m\u001b[1;32m     14\u001b[0m         \u001b[0;31m#print(r)\u001b[0m\u001b[0;34m\u001b[0m\u001b[0;34m\u001b[0m\u001b[0;34m\u001b[0m\u001b[0m\n\u001b[1;32m     15\u001b[0m         \u001b[0mstep\u001b[0m\u001b[0;34m=\u001b[0m\u001b[0mnp\u001b[0m\u001b[0;34m.\u001b[0m\u001b[0mlinalg\u001b[0m\u001b[0;34m.\u001b[0m\u001b[0minv\u001b[0m\u001b[0;34m(\u001b[0m\u001b[0;34m(\u001b[0m\u001b[0mJ\u001b[0m\u001b[0;34m.\u001b[0m\u001b[0mT\u001b[0m\u001b[0;34m@\u001b[0m\u001b[0mJ\u001b[0m\u001b[0;34m)\u001b[0m\u001b[0;34m)\u001b[0m\u001b[0;34m@\u001b[0m\u001b[0;34m(\u001b[0m\u001b[0mJ\u001b[0m\u001b[0;34m.\u001b[0m\u001b[0mT\u001b[0m\u001b[0;34m@\u001b[0m\u001b[0mr\u001b[0m\u001b[0;34m)\u001b[0m\u001b[0;34m\u001b[0m\u001b[0;34m\u001b[0m\u001b[0m\n",
      "\u001b[0;32m<ipython-input-19-0037190fd27c>\u001b[0m in \u001b[0;36mcalc_residual\u001b[0;34m(p, pixel_gt, pts_3d)\u001b[0m\n\u001b[1;32m     18\u001b[0m     \u001b[0mr\u001b[0m\u001b[0;34m=\u001b[0m\u001b[0;34m[\u001b[0m\u001b[0;34m]\u001b[0m\u001b[0;34m\u001b[0m\u001b[0;34m\u001b[0m\u001b[0m\n\u001b[1;32m     19\u001b[0m     \u001b[0;32mfor\u001b[0m \u001b[0mi\u001b[0m \u001b[0;32min\u001b[0m \u001b[0mrange\u001b[0m\u001b[0;34m(\u001b[0m\u001b[0;36m0\u001b[0m\u001b[0;34m,\u001b[0m\u001b[0mnp\u001b[0m\u001b[0;34m.\u001b[0m\u001b[0mshape\u001b[0m\u001b[0;34m(\u001b[0m\u001b[0mpts_3d\u001b[0m\u001b[0;34m)\u001b[0m\u001b[0;34m[\u001b[0m\u001b[0;36m1\u001b[0m\u001b[0;34m]\u001b[0m\u001b[0;34m)\u001b[0m\u001b[0;34m:\u001b[0m\u001b[0;34m\u001b[0m\u001b[0;34m\u001b[0m\u001b[0m\n\u001b[0;32m---> 20\u001b[0;31m         \u001b[0mr_pt_x\u001b[0m\u001b[0;34m=\u001b[0m\u001b[0;34m[\u001b[0m\u001b[0;34m(\u001b[0m\u001b[0mp\u001b[0m\u001b[0;34m[\u001b[0m\u001b[0;36m0\u001b[0m\u001b[0;34m]\u001b[0m\u001b[0;34m[\u001b[0m\u001b[0;36m0\u001b[0m\u001b[0;34m]\u001b[0m\u001b[0;34m*\u001b[0m\u001b[0mpts_3d\u001b[0m\u001b[0;34m[\u001b[0m\u001b[0;36m0\u001b[0m\u001b[0;34m]\u001b[0m\u001b[0;34m[\u001b[0m\u001b[0mi\u001b[0m\u001b[0;34m]\u001b[0m\u001b[0;34m+\u001b[0m\u001b[0mp\u001b[0m\u001b[0;34m[\u001b[0m\u001b[0;36m1\u001b[0m\u001b[0;34m]\u001b[0m\u001b[0;34m[\u001b[0m\u001b[0;36m0\u001b[0m\u001b[0;34m]\u001b[0m\u001b[0;34m*\u001b[0m\u001b[0mpts_3d\u001b[0m\u001b[0;34m[\u001b[0m\u001b[0;36m1\u001b[0m\u001b[0;34m]\u001b[0m\u001b[0;34m[\u001b[0m\u001b[0mi\u001b[0m\u001b[0;34m]\u001b[0m\u001b[0;34m+\u001b[0m\u001b[0mp\u001b[0m\u001b[0;34m[\u001b[0m\u001b[0;36m2\u001b[0m\u001b[0;34m]\u001b[0m\u001b[0;34m[\u001b[0m\u001b[0;36m0\u001b[0m\u001b[0;34m]\u001b[0m\u001b[0;34m*\u001b[0m\u001b[0mpts_3d\u001b[0m\u001b[0;34m[\u001b[0m\u001b[0;36m2\u001b[0m\u001b[0;34m]\u001b[0m\u001b[0;34m[\u001b[0m\u001b[0mi\u001b[0m\u001b[0;34m]\u001b[0m\u001b[0;34m+\u001b[0m\u001b[0mp\u001b[0m\u001b[0;34m[\u001b[0m\u001b[0;36m3\u001b[0m\u001b[0;34m]\u001b[0m\u001b[0;34m[\u001b[0m\u001b[0;36m0\u001b[0m\u001b[0;34m]\u001b[0m\u001b[0;34m)\u001b[0m\u001b[0;34m/\u001b[0m\u001b[0;34m(\u001b[0m\u001b[0mp\u001b[0m\u001b[0;34m[\u001b[0m\u001b[0;36m8\u001b[0m\u001b[0;34m]\u001b[0m\u001b[0;34m[\u001b[0m\u001b[0;36m0\u001b[0m\u001b[0;34m]\u001b[0m\u001b[0;34m*\u001b[0m\u001b[0mpts_3d\u001b[0m\u001b[0;34m[\u001b[0m\u001b[0;36m0\u001b[0m\u001b[0;34m]\u001b[0m\u001b[0;34m[\u001b[0m\u001b[0mi\u001b[0m\u001b[0;34m]\u001b[0m\u001b[0;34m+\u001b[0m\u001b[0mp\u001b[0m\u001b[0;34m[\u001b[0m\u001b[0;36m9\u001b[0m\u001b[0;34m]\u001b[0m\u001b[0;34m[\u001b[0m\u001b[0;36m0\u001b[0m\u001b[0;34m]\u001b[0m\u001b[0;34m*\u001b[0m\u001b[0mpts_3d\u001b[0m\u001b[0;34m[\u001b[0m\u001b[0;36m1\u001b[0m\u001b[0;34m]\u001b[0m\u001b[0;34m[\u001b[0m\u001b[0mi\u001b[0m\u001b[0;34m]\u001b[0m\u001b[0;34m+\u001b[0m\u001b[0mp\u001b[0m\u001b[0;34m[\u001b[0m\u001b[0;36m10\u001b[0m\u001b[0;34m]\u001b[0m\u001b[0;34m[\u001b[0m\u001b[0;36m0\u001b[0m\u001b[0;34m]\u001b[0m\u001b[0;34m*\u001b[0m\u001b[0mpts_3d\u001b[0m\u001b[0;34m[\u001b[0m\u001b[0;36m2\u001b[0m\u001b[0;34m]\u001b[0m\u001b[0;34m[\u001b[0m\u001b[0mi\u001b[0m\u001b[0;34m]\u001b[0m\u001b[0;34m+\u001b[0m\u001b[0mp\u001b[0m\u001b[0;34m[\u001b[0m\u001b[0;36m11\u001b[0m\u001b[0;34m]\u001b[0m\u001b[0;34m[\u001b[0m\u001b[0;36m0\u001b[0m\u001b[0;34m]\u001b[0m\u001b[0;34m)\u001b[0m\u001b[0;34m-\u001b[0m\u001b[0mpixel_gt\u001b[0m\u001b[0;34m[\u001b[0m\u001b[0;36m0\u001b[0m\u001b[0;34m]\u001b[0m\u001b[0;34m[\u001b[0m\u001b[0mi\u001b[0m\u001b[0;34m]\u001b[0m\u001b[0;34m]\u001b[0m\u001b[0;34m\u001b[0m\u001b[0;34m\u001b[0m\u001b[0m\n\u001b[0m\u001b[1;32m     21\u001b[0m         \u001b[0mr_pt_y\u001b[0m\u001b[0;34m=\u001b[0m\u001b[0;34m[\u001b[0m\u001b[0;34m(\u001b[0m\u001b[0mp\u001b[0m\u001b[0;34m[\u001b[0m\u001b[0;36m4\u001b[0m\u001b[0;34m]\u001b[0m\u001b[0;34m[\u001b[0m\u001b[0;36m0\u001b[0m\u001b[0;34m]\u001b[0m\u001b[0;34m*\u001b[0m\u001b[0mpts_3d\u001b[0m\u001b[0;34m[\u001b[0m\u001b[0;36m0\u001b[0m\u001b[0;34m]\u001b[0m\u001b[0;34m[\u001b[0m\u001b[0mi\u001b[0m\u001b[0;34m]\u001b[0m\u001b[0;34m+\u001b[0m\u001b[0mp\u001b[0m\u001b[0;34m[\u001b[0m\u001b[0;36m5\u001b[0m\u001b[0;34m]\u001b[0m\u001b[0;34m[\u001b[0m\u001b[0;36m0\u001b[0m\u001b[0;34m]\u001b[0m\u001b[0;34m*\u001b[0m\u001b[0mpts_3d\u001b[0m\u001b[0;34m[\u001b[0m\u001b[0;36m1\u001b[0m\u001b[0;34m]\u001b[0m\u001b[0;34m[\u001b[0m\u001b[0mi\u001b[0m\u001b[0;34m]\u001b[0m\u001b[0;34m+\u001b[0m\u001b[0mp\u001b[0m\u001b[0;34m[\u001b[0m\u001b[0;36m6\u001b[0m\u001b[0;34m]\u001b[0m\u001b[0;34m[\u001b[0m\u001b[0;36m0\u001b[0m\u001b[0;34m]\u001b[0m\u001b[0;34m*\u001b[0m\u001b[0mpts_3d\u001b[0m\u001b[0;34m[\u001b[0m\u001b[0;36m2\u001b[0m\u001b[0;34m]\u001b[0m\u001b[0;34m[\u001b[0m\u001b[0mi\u001b[0m\u001b[0;34m]\u001b[0m\u001b[0;34m+\u001b[0m\u001b[0mp\u001b[0m\u001b[0;34m[\u001b[0m\u001b[0;36m7\u001b[0m\u001b[0;34m]\u001b[0m\u001b[0;34m[\u001b[0m\u001b[0;36m0\u001b[0m\u001b[0;34m]\u001b[0m\u001b[0;34m)\u001b[0m\u001b[0;34m/\u001b[0m\u001b[0;34m(\u001b[0m\u001b[0mp\u001b[0m\u001b[0;34m[\u001b[0m\u001b[0;36m8\u001b[0m\u001b[0;34m]\u001b[0m\u001b[0;34m[\u001b[0m\u001b[0;36m0\u001b[0m\u001b[0;34m]\u001b[0m\u001b[0;34m*\u001b[0m\u001b[0mpts_3d\u001b[0m\u001b[0;34m[\u001b[0m\u001b[0;36m0\u001b[0m\u001b[0;34m]\u001b[0m\u001b[0;34m[\u001b[0m\u001b[0mi\u001b[0m\u001b[0;34m]\u001b[0m\u001b[0;34m+\u001b[0m\u001b[0mp\u001b[0m\u001b[0;34m[\u001b[0m\u001b[0;36m9\u001b[0m\u001b[0;34m]\u001b[0m\u001b[0;34m[\u001b[0m\u001b[0;36m0\u001b[0m\u001b[0;34m]\u001b[0m\u001b[0;34m*\u001b[0m\u001b[0mpts_3d\u001b[0m\u001b[0;34m[\u001b[0m\u001b[0;36m1\u001b[0m\u001b[0;34m]\u001b[0m\u001b[0;34m[\u001b[0m\u001b[0mi\u001b[0m\u001b[0;34m]\u001b[0m\u001b[0;34m+\u001b[0m\u001b[0mp\u001b[0m\u001b[0;34m[\u001b[0m\u001b[0;36m10\u001b[0m\u001b[0;34m]\u001b[0m\u001b[0;34m[\u001b[0m\u001b[0;36m0\u001b[0m\u001b[0;34m]\u001b[0m\u001b[0;34m*\u001b[0m\u001b[0mpts_3d\u001b[0m\u001b[0;34m[\u001b[0m\u001b[0;36m2\u001b[0m\u001b[0;34m]\u001b[0m\u001b[0;34m[\u001b[0m\u001b[0mi\u001b[0m\u001b[0;34m]\u001b[0m\u001b[0;34m+\u001b[0m\u001b[0mp\u001b[0m\u001b[0;34m[\u001b[0m\u001b[0;36m11\u001b[0m\u001b[0;34m]\u001b[0m\u001b[0;34m[\u001b[0m\u001b[0;36m0\u001b[0m\u001b[0;34m]\u001b[0m\u001b[0;34m)\u001b[0m\u001b[0;34m-\u001b[0m\u001b[0mpixel_gt\u001b[0m\u001b[0;34m[\u001b[0m\u001b[0;36m1\u001b[0m\u001b[0;34m]\u001b[0m\u001b[0;34m[\u001b[0m\u001b[0mi\u001b[0m\u001b[0;34m]\u001b[0m\u001b[0;34m]\u001b[0m\u001b[0;34m\u001b[0m\u001b[0;34m\u001b[0m\u001b[0m\n\u001b[1;32m     22\u001b[0m         \u001b[0;31m#r_pt_z=[p[8][0]*pts_3d[0][i]+p[9][0]*pts_3d[1][i]+p[10][0]*pts_3d[2][i]+p[11][0]-pixel_gt[2][i]]\u001b[0m\u001b[0;34m\u001b[0m\u001b[0;34m\u001b[0m\u001b[0;34m\u001b[0m\u001b[0m\n",
      "\u001b[0;31mKeyboardInterrupt\u001b[0m: "
     ]
    }
   ],
   "source": [
    "def check_conv(p,p1,threshold):\n",
    "    l=np.shape(p)[0]\n",
    "    flag=bool(1)\n",
    "    for i in range(0,l):\n",
    "        flag=(flag and (abs(p[i][0]-p1[i][0])<threshold))\n",
    "    return flag\n",
    "\n",
    "def gauss_newton(p_init,pts_3d,pixel_gt,threshold,maxitr) :\n",
    "    itr=0\n",
    "    p=p_init\n",
    "    while(itr<maxitr):\n",
    "        J=calc_jacobian(pts_3d,p)\n",
    "        r=calc_residual(p,pixel_gt,pts_3d)\n",
    "        #print(r)\n",
    "        step=np.linalg.inv((J.T@J))@(J.T@r)\n",
    "        #print(p)\n",
    "        p1=p-step\n",
    "        #print(p1)\n",
    "        flag=check_conv(p,p1,threshold)\n",
    "        if flag:\n",
    "            print(itr)\n",
    "            return p1\n",
    "        p=p1\n",
    "        itr=itr+1\n",
    "    return p\n",
    "p_init1=(P_gt.flatten()).reshape(12,1)+np.random.normal(0,100,(12,1))\n",
    "P1=K@np.array([[1,0,0,135],\n",
    "              [0,1,0,248],\n",
    "              [0,0,1,1000]])\n",
    "p_init2=(P1.flatten()).reshape(12,1)\n",
    "p_init3=np.zeros((12,1),float)\n",
    "print(p_init3)\n",
    "p_opt=gauss_newton(p_init3,pts_3d,pixel_gt,1e-9,1e4)\n",
    "print(p_opt)\n",
    "print((P_gt.flatten()).reshape(12,1))"
   ]
  },
  {
   "cell_type": "code",
   "execution_count": null,
   "metadata": {},
   "outputs": [],
   "source": []
  }
 ],
 "metadata": {
  "kernelspec": {
   "display_name": "Python 3",
   "language": "python",
   "name": "python3"
  },
  "language_info": {
   "codemirror_mode": {
    "name": "ipython",
    "version": 3
   },
   "file_extension": ".py",
   "mimetype": "text/x-python",
   "name": "python",
   "nbconvert_exporter": "python",
   "pygments_lexer": "ipython3",
   "version": "3.8.3"
  }
 },
 "nbformat": 4,
 "nbformat_minor": 4
}
